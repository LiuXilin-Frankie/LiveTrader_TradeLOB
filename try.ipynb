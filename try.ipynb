{
 "cells": [
  {
   "cell_type": "code",
   "execution_count": 1,
   "metadata": {},
   "outputs": [
    {
     "name": "stdout",
     "output_type": "stream",
     "text": [
      "backtest on:  ['btc_usdt_binance', 'eth_usdt_binance', 'xrp_usdt_binance']\n",
      "/*----- start initialize the DataHandler -----*/\n",
      "/*----- DataHandler initialization ends -----*/\n",
      "\n",
      "===== reload data from new hour =====\n",
      "\n",
      "===== processing market event in  1702746000000  =====\n",
      "get new market events and push to queue\n",
      "get market event {'type': 'MARKET'}\n"
     ]
    },
    {
     "ename": "TypeError",
     "evalue": "argument of type 'NoneType' is not iterable",
     "output_type": "error",
     "traceback": [
      "\u001b[0;31m---------------------------------------------------------------------------\u001b[0m",
      "\u001b[0;31mTypeError\u001b[0m                                 Traceback (most recent call last)",
      "Cell \u001b[0;32mIn[1], line 47\u001b[0m\n\u001b[1;32m     45\u001b[0m     \u001b[38;5;28mprint\u001b[39m(\u001b[38;5;124m'\u001b[39m\u001b[38;5;124mget market event\u001b[39m\u001b[38;5;124m'\u001b[39m, event)\n\u001b[1;32m     46\u001b[0m     strategy\u001b[38;5;241m.\u001b[39mcalculate_signals(event)\n\u001b[0;32m---> 47\u001b[0m     portfolio\u001b[38;5;241m.\u001b[39mupdate_holdings_from_market()\n\u001b[1;32m     48\u001b[0m     executor\u001b[38;5;241m.\u001b[39mon_market_event(event)\n\u001b[1;32m     50\u001b[0m \u001b[38;5;28;01melif\u001b[39;00m event\u001b[38;5;241m.\u001b[39mtype \u001b[38;5;241m==\u001b[39m \u001b[38;5;124m'\u001b[39m\u001b[38;5;124mORDER\u001b[39m\u001b[38;5;124m'\u001b[39m:\n",
      "File \u001b[0;32m~/LiveTrader_TradeLOB/Portfolio/LogPlotPortfolio.py:80\u001b[0m, in \u001b[0;36mLogPlotPortfolio.update_holdings_from_market\u001b[0;34m(self)\u001b[0m\n\u001b[1;32m     78\u001b[0m net_value \u001b[38;5;241m=\u001b[39m \u001b[38;5;241m0\u001b[39m\n\u001b[1;32m     79\u001b[0m \u001b[38;5;28;01mfor\u001b[39;00m s \u001b[38;5;129;01min\u001b[39;00m \u001b[38;5;28mself\u001b[39m\u001b[38;5;241m.\u001b[39msymbol_exchange_list:\n\u001b[0;32m---> 80\u001b[0m     \u001b[38;5;28;01mif\u001b[39;00m s \u001b[38;5;129;01mnot\u001b[39;00m \u001b[38;5;129;01min\u001b[39;00m trades: \u001b[38;5;28;01mcontinue\u001b[39;00m\n\u001b[1;32m     81\u001b[0m     \u001b[38;5;28mself\u001b[39m\u001b[38;5;241m.\u001b[39mcurrent_holdings[s] \u001b[38;5;241m=\u001b[39m trades[s] \u001b[38;5;241m*\u001b[39m \u001b[38;5;28mself\u001b[39m\u001b[38;5;241m.\u001b[39mcurrent_positions[s]\n\u001b[1;32m     82\u001b[0m     \u001b[38;5;28mself\u001b[39m\u001b[38;5;241m.\u001b[39mall_holdings[s][\u001b[38;5;28mself\u001b[39m\u001b[38;5;241m.\u001b[39mdatahandler\u001b[38;5;241m.\u001b[39mbacktest_now] \u001b[38;5;241m=\u001b[39m \u001b[38;5;28mself\u001b[39m\u001b[38;5;241m.\u001b[39mcurrent_holdings[s]\n",
      "\u001b[0;31mTypeError\u001b[0m: argument of type 'NoneType' is not iterable"
     ]
    }
   ],
   "source": [
    "import queue\n",
    "import time\n",
    "import os\n",
    "import sys\n",
    "\n",
    "from DataHandler.LOBHourlyDataHandler import HistoricLOBHourlyDataHandler\n",
    "from Strategy.strategy import BuyAndHoldStrategy\n",
    "from Portfolio.LogPlotPortfolio import LogPlotPortfolio\n",
    "from Execution.execution import SimulatedExecutionHandler\n",
    "\n",
    "event_queue = queue.Queue()\n",
    "data_handler = HistoricLOBHourlyDataHandler(event_queue, \n",
    "                                           symbol_list=['btc_usdt','eth_usdt','xrp_usdt'],\n",
    "                                           exchange_list=['binance','binance','binance'], \n",
    "                                           file_dir = 'data_sample/small_sample/', \n",
    "                                           # file_dir = 'data_sample/',\n",
    "                                           is_csv=False)\n",
    "#sys.exit()\n",
    "\n",
    "portfolio = LogPlotPortfolio(event_queue, data_handler)      # 组合\n",
    "executor = SimulatedExecutionHandler(event_queue, data_handler)   # 回测模拟成交器；如果是实盘这里就是算法交易模块\n",
    "strategy = BuyAndHoldStrategy(event_queue, data_handler, portfolio, executor)       # 策略实例。实际应用中应该有多个策略实例\n",
    "\n",
    "cnt = 0\n",
    "while True:\n",
    "    # Update the trade/LOB (specific backtest code, as opposed to live trading)\n",
    "    if data_handler.continue_backtest == True:\n",
    "        data_handler.update_TradeLOB()\n",
    "    else:\n",
    "        break\n",
    "    \n",
    "    # cnt+=1\n",
    "    # if cnt>2000: break\n",
    "\n",
    "    # Handle the events\n",
    "    while True:\n",
    "        try:\n",
    "            event = event_queue.get(False)\n",
    "        except queue.Empty:\n",
    "            break\n",
    "        else:\n",
    "            if event is not None:\n",
    "\n",
    "                if event.type == 'MARKET':\n",
    "                    print('get market event', event)\n",
    "                    strategy.calculate_signals(event)\n",
    "                    portfolio.update_holdings_from_market()\n",
    "                    executor.on_market_event(event)\n",
    "\n",
    "                elif event.type == 'ORDER':\n",
    "                    executor.on_order_event(event)\n",
    "\n",
    "                # elif event.type == 'FILL':\n",
    "                #     print('get fill event', event)\n",
    "                #     #portfolio.update_positions_from_fill(event)\n",
    "                #     strategy\n",
    "                #     sys.exit()"
   ]
  },
  {
   "cell_type": "code",
   "execution_count": null,
   "metadata": {},
   "outputs": [],
   "source": []
  },
  {
   "cell_type": "code",
   "execution_count": null,
   "metadata": {},
   "outputs": [],
   "source": []
  },
  {
   "cell_type": "code",
   "execution_count": null,
   "metadata": {},
   "outputs": [],
   "source": []
  },
  {
   "cell_type": "code",
   "execution_count": null,
   "metadata": {},
   "outputs": [],
   "source": []
  },
  {
   "cell_type": "code",
   "execution_count": null,
   "metadata": {},
   "outputs": [],
   "source": []
  }
 ],
 "metadata": {
  "kernelspec": {
   "display_name": "cryptoresearch",
   "language": "python",
   "name": "python3"
  },
  "language_info": {
   "codemirror_mode": {
    "name": "ipython",
    "version": 3
   },
   "file_extension": ".py",
   "mimetype": "text/x-python",
   "name": "python",
   "nbconvert_exporter": "python",
   "pygments_lexer": "ipython3",
   "version": "3.11.7"
  }
 },
 "nbformat": 4,
 "nbformat_minor": 2
}
