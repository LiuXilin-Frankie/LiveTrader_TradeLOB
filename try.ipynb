{
 "cells": [
  {
   "cell_type": "code",
   "execution_count": 1,
   "metadata": {},
   "outputs": [
    {
     "name": "stdout",
     "output_type": "stream",
     "text": [
      "backtest on:  ['btc_usdt_binance', 'btc_usdt_bybit']\n",
      "/*----- start initialize the DataHandler -----*/\n",
      "/*----- DataHandler initialization ends -----*/\n",
      "\n",
      "===== reload data from new hour =====\n",
      "get order event {'type': 'ORDER', 'timestamp': 1704042004655, 'symbol': 'btc_usdt_bybit', 'order_id': 0, 'order_type': 'IOC', 'direction': 'BUY', 'quantity': 0.23473649707735345, 'price': 42600.959478000004}\n",
      "get order event {'type': 'ORDER', 'timestamp': 1704042016379, 'symbol': 'btc_usdt_binance', 'order_id': 1, 'order_type': 'IOC', 'direction': 'BUY', 'quantity': 0.23478675512570404, 'price': 42591.84039}\n",
      "get order event {'type': 'ORDER', 'timestamp': 1704042017180, 'symbol': 'btc_usdt_binance', 'order_id': 2, 'order_type': 'IOC', 'direction': 'BUY', 'quantity': 0.2347542392378292, 'price': 42597.7398}\n",
      "get order event {'type': 'ORDER', 'timestamp': 1704042018403, 'symbol': 'btc_usdt_binance', 'order_id': 3, 'order_type': 'IOC', 'direction': 'BUY', 'quantity': 0.2347368827479777, 'price': 42600.889485}\n"
     ]
    }
   ],
   "source": [
    "import queue\n",
    "import time\n",
    "import os\n",
    "import sys\n",
    "\n",
    "from DataHandler.TradeLOBHourlyDataHandler import HistoricTradeLOBHourlyDataHandler\n",
    "from Strategy.LeadLagArbitrageStrategy import LeadLagArbitrageStrategy\n",
    "from Portfolio.LogPlotPortfolio import LogPlotPortfolio\n",
    "from Execution.execution import SimulatedExecutionHandler\n",
    "\n",
    "event_queue = queue.Queue()\n",
    "data_handler = HistoricTradeLOBHourlyDataHandler(event_queue, \n",
    "                                           symbol_list=['btc_usdt','btc_usdt'],\n",
    "                                           exchange_list=['binance','bybit'], \n",
    "                                           file_dir = 'data_sample/20240101/', \n",
    "                                           # file_dir = 'data_sample/',\n",
    "                                           is_csv=False)\n",
    "#sys.exit()\n",
    "\n",
    "portfolio = LogPlotPortfolio(event_queue, data_handler)      # 组合\n",
    "executor = SimulatedExecutionHandler(event_queue, data_handler)   # 回测模拟成交器；如果是实盘这里就是算法交易模块\n",
    "strategy = LeadLagArbitrageStrategy(event_queue, data_handler, portfolio, executor)       # 策略实例。实际应用中应该有多个策略实例\n",
    "\n",
    "cnt = 0\n",
    "while True:\n",
    "    # Update the trade/LOB (specific backtest code, as opposed to live trading)\n",
    "    if data_handler.continue_backtest == True:\n",
    "        data_handler.update_TradeLOB()\n",
    "    else:\n",
    "        break\n",
    "    \n",
    "    cnt+=1\n",
    "    if cnt>2000: break\n",
    "\n",
    "    # Handle the events\n",
    "    while True:\n",
    "        try:\n",
    "            event = event_queue.get(False)\n",
    "        except queue.Empty:\n",
    "            break\n",
    "        else:\n",
    "            if event is not None:\n",
    "\n",
    "                if event.type == 'MARKET':\n",
    "                    # print('get market event', event)\n",
    "                    strategy.on_market_event(event)\n",
    "                    portfolio.update_holdings_from_market()\n",
    "                    executor.on_market_event(event)\n",
    "\n",
    "                elif event.type == 'ORDER':\n",
    "                    print('get order event', event)\n",
    "                    executor.on_order_event(event)\n",
    "\n",
    "                elif event.type == 'FILL':\n",
    "                    print('get fill event', event)\n",
    "                    portfolio.update_positions_from_fill(event)\n",
    "                    strategy.on_order_fill(event)\n",
    "                    #sys.exit()\n"
   ]
  },
  {
   "cell_type": "code",
   "execution_count": 2,
   "metadata": {},
   "outputs": [
    {
     "name": "stdout",
     "output_type": "stream",
     "text": [
      "btc_usdt_binance\n",
      "btc_usdt_bybit\n"
     ]
    }
   ],
   "source": [
    "for i in data_handler.latest_symbol_exchange_trade_data_time.keys():\n",
    "    print(i)"
   ]
  },
  {
   "cell_type": "code",
   "execution_count": 3,
   "metadata": {},
   "outputs": [
    {
     "data": {
      "text/plain": [
       "True"
      ]
     },
     "execution_count": 3,
     "metadata": {},
     "output_type": "execute_result"
    }
   ],
   "source": [
    "'btc_usdt_bybit' in data_handler.latest_symbol_exchange_trade_data_time"
   ]
  },
  {
   "cell_type": "code",
   "execution_count": 4,
   "metadata": {},
   "outputs": [
    {
     "ename": "AttributeError",
     "evalue": "'HistoricTradeLOBHourlyDataHandler' object has no attribute 'registered_symbol_exchange_trade_data'",
     "output_type": "error",
     "traceback": [
      "\u001b[0;31m---------------------------------------------------------------------------\u001b[0m",
      "\u001b[0;31mAttributeError\u001b[0m                            Traceback (most recent call last)",
      "Cell \u001b[0;32mIn[4], line 1\u001b[0m\n\u001b[0;32m----> 1\u001b[0m data_handler\u001b[38;5;241m.\u001b[39mregistered_symbol_exchange_trade_data[\u001b[38;5;124m'\u001b[39m\u001b[38;5;124mbtc_usdt_binance\u001b[39m\u001b[38;5;124m'\u001b[39m]\n",
      "\u001b[0;31mAttributeError\u001b[0m: 'HistoricTradeLOBHourlyDataHandler' object has no attribute 'registered_symbol_exchange_trade_data'"
     ]
    }
   ],
   "source": [
    "data_handler.registered_symbol_exchange_trade_data['btc_usdt_binance']"
   ]
  },
  {
   "cell_type": "code",
   "execution_count": null,
   "metadata": {},
   "outputs": [
    {
     "data": {
      "text/plain": [
       "{'btc_usdt_binance': 1704042025507, 'btc_usdt_bybit': 1704042025312}"
      ]
     },
     "execution_count": 5,
     "metadata": {},
     "output_type": "execute_result"
    }
   ],
   "source": [
    "data_handler.latest_symbol_exchange_trade_data_time"
   ]
  }
 ],
 "metadata": {
  "kernelspec": {
   "display_name": "cryptoresearch",
   "language": "python",
   "name": "python3"
  },
  "language_info": {
   "codemirror_mode": {
    "name": "ipython",
    "version": 3
   },
   "file_extension": ".py",
   "mimetype": "text/x-python",
   "name": "python",
   "nbconvert_exporter": "python",
   "pygments_lexer": "ipython3",
   "version": "3.11.7"
  }
 },
 "nbformat": 4,
 "nbformat_minor": 2
}
