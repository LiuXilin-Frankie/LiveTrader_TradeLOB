{
 "cells": [
  {
   "cell_type": "code",
   "execution_count": 1,
   "metadata": {},
   "outputs": [],
   "source": [
    "from CSVDataHandler import HistoricCSVDataHandler"
   ]
  },
  {
   "cell_type": "code",
   "execution_count": null,
   "metadata": {},
   "outputs": [],
   "source": [
    "curl 'https://cuhko365-my.sharepoint.com/personal/118020043_link_cuhk_edu_cn/_layouts/15/download.aspx?UniqueId=12b882e9%2Dd84c%2D4323%2Dad85%2Dc025eccfc356' \\\n",
    "  -H 'authority: cuhko365-my.sharepoint.com' \\\n",
    "  -H 'accept: text/html,application/xhtml+xml,application/xml;q=0.9,image/avif,image/webp,image/apng,*/*;q=0.8,application/signed-exchange;v=b3;q=0.7' \\\n",
    "  -H 'accept-language: zh-CN,zh;q=0.9,en;q=0.8' \\\n",
    "  -H $'cookie: Syntex_Translation_Languages=[[\"af\",\"å\\u008d—é\\u009džè\\u008d·å…°è¯­\"],[\"am\",\"é˜¿å§†å“ˆæ‹‰è¯­\"],[\"ar\",\"é˜¿æ‹‰ä¼¯è¯­\"],[\"as\",\"é˜¿è\\u0090¨å§†è¯­\"],[\"az\",\"é˜¿å¡žæ‹œç–†è¯­\"],[\"ba\",\"å·´ä»€åŸºå°”è¯­\"],[\"bg\",\"ä¿\\u009dåŠ åˆ©äºšè¯­\"],[\"bho\",\"Bhojpuri\"],[\"bn\",\"å­ŸåŠ æ‹‰è¯­\"],[\"bo\",\"è—\\u008fè¯­\"],[\"brx\",\"Bodo\"],[\"bs\",\"æ³¢æ–¯å°¼äºšè¯­\"],[\"ca\",\"åŠ æ³°ç½—å°¼äºšè¯­\"],[\"cs\",\"æ\\u008d·å…‹è¯­\"],[\"cy\",\"å¨\\u0081å°”å£«è¯­\"],[\"da\",\"ä¸¹éº¦è¯­\"],[\"de\",\"å¾·è¯­\"],[\"doi\",\"Dogri\"],[\"dsb\",\"ä¸‹ç´¢å¸ƒè¯­\"],[\"dv\",\"è¿ªç»´å¸Œè¯­\"],[\"el\",\"å¸Œè…Šè¯­\"],[\"en\",\"è‹±è¯­\"],[\"es\",\"è¥¿ç\\u008f­ç‰™è¯­\"],[\"et\",\"çˆ±æ²™å°¼äºšè¯­\"],[\"eu\",\"å·´æ–¯å…‹è¯­\"],[\"fa\",\"æ³¢æ–¯è¯­\"],[\"fi\",\"èŠ¬å…°è¯­\"],[\"fil\",\"è\\u008f²å¾‹å®¾è¯­\"],[\"fj\",\"æ–\\u0090æµŽè¯­\"],[\"fo\",\"æ³•ç½—è¯­\"],[\"fr\",\"æ³•è¯­\"],[\"fr-CA\",\"æ³•è¯­ (åŠ æ‹¿å¤§)\"],[\"ga\",\"çˆ±å°”å…°è¯­\"],[\"gl\",\"åŠ åˆ©è¥¿äºšè¯­\"],[\"gom\",\"Konkani\"],[\"gu\",\"å\\u008f¤å\\u0090‰æ‹‰ç‰¹è¯­\"],[\"ha\",\"è±ªè\\u0090¨è¯­\"],[\"he\",\"å¸Œä¼¯æ\\u009d¥è¯­\"],[\"hi\",\"å\\u008d°åœ°è¯­\"],[\"hne\",\"Chhattisgarhi\"],[\"hr\",\"å…‹ç½—åœ°äºšè¯­\"],[\"hsb\",\"ä¸Šç´¢å¸ƒè¯­\"],[\"ht\",\"æµ·åœ°å…‹é‡Œå¥¥å°”è¯­\"],[\"hu\",\"åŒˆç‰™åˆ©è¯­\"],[\"hy\",\"äºšç¾Žå°¼äºšè¯­\"],[\"id\",\"å\\u008d°åº¦å°¼è¥¿äºšè¯­\"],[\"ig\",\"ä¼Šå\\u008dšè¯­\"],[\"ikt\",\"Inuinnaqtun\"],[\"is\",\"å†°å²›è¯­\"],[\"it\",\"æ„\\u008få¤§åˆ©è¯­\"],[\"iu\",\"å› çº½ç‰¹è¯­\"],[\"iu-Latn\",\"Inuktitut (Latin)\"],[\"ja\",\"æ—¥è¯­\"],[\"ka\",\"æ ¼é²\\u0081å\\u0090‰äºšè¯­\"],[\"kk\",\"å“ˆè\\u0090¨å…‹è¯­\"],[\"km\",\"é«˜æ£‰è¯­\"],[\"kmr\",\"åº“å°”å¾·è¯­ (åŒ—)\"],[\"kn\",\"å\\u008d¡çº³è¾¾è¯­\"],[\"ko\",\"éŸ©è¯­\"],[\"ks\",\"Kashmiri\"],[\"ku\",\"åº“å°”å¾·è¯­ (ä¸­)\"],[\"ky\",\"æŸ¯å°”å…‹å­œè¯­\"],[\"ln\",\"æž—åŠ æ‹‰è¯­\"],[\"lo\",\"è€\\u0081æŒ\\u009dè¯­\"],[\"lt\",\"ç«‹é™¶å®›è¯­\"],[\"lug\",\"Ganda\"],[\"lv\",\"æ‹‰è„±ç»´äºšè¯­\"],[\"lzh\",\"Chinese (Literary)\"],[\"mai\",\"è¿ˆè’‚åˆ©è¯­\"],[\"mg\",\"é©¬æ‹‰åŠ æ–¯è¯­\"],[\"mi\",\"æ¯›åˆ©è¯­\"],[\"mk\",\"é©¬å…¶é¡¿è¯­\"],[\"ml\",\"é©¬æ‹‰é›…æ‹‰å§†è¯­\"],[\"mn-Cyrl\",\"Mongolian (Cyrillic)\"],[\"mn-Mong\",\"Mongolian (Traditional)\"],[\"mni\",\"Manipuri\"],[\"mr\",\"é©¬æ‹‰åœ°è¯­\"],[\"ms\",\"é©¬æ\\u009d¥è¯­\"],[\"mt\",\"é©¬è€³ä»–è¯­\"],[\"mww\",\"è‹—è¯­\"],[\"my\",\"ç¼…ç”¸è¯­\"],[\"nb\",\"ä¹¦é\\u009d¢æŒªå¨\\u0081è¯­\"],[\"ne\",\"å°¼æ³Šå°”è¯­\"],[\"nl\",\"è\\u008d·å…°è¯­\"],[\"nso\",\"Sesotho sa Leboa\"],[\"nya\",\"Nyanja\"],[\"or\",\"å¥¥é‡Œäºšè¯­\"],[\"otq\",\"å…‹é›·å¡”ç½—å¥¥æ‰˜ç±³è¯­\"],[\"pa\",\"æ—\\u0081é\\u0081®æ™®è¯­\"],[\"pl\",\"æ³¢å…°è¯­\"],[\"prs\",\"è¾¾é‡Œè¯­\"],[\"ps\",\"æ™®ä»€å›¾è¯­\"],[\"pt\",\"è‘¡è\\u0090„ç‰™è¯­ (å·´è¥¿)\"],[\"pt-PT\",\"è‘¡è\\u0090„ç‰™è¯­ (è‘¡è\\u0090„ç‰™)\"],[\"ro\",\"ç½—é©¬å°¼äºšè¯­\"],[\"ru\",\"ä¿„è¯­\"],[\"run\",\"Rundi\"],[\"rw\",\"å\\u008d¢æ—ºè¾¾è¯­\"],[\"sd\",\"ä¿¡å¾·è¯­\"],[\"si\",\"åƒ§ä¼½ç½—è¯­\"],[\"sk\",\"æ–¯æ´›ä¼\\u0090å…‹è¯­\"],[\"sl\",\"æ–¯æ´›æ–‡å°¼äºšè¯­\"],[\"sm\",\"è\\u0090¨æ‘©äºšè¯­\"],[\"sn\",\"ç»\\u008dçº³è¯­\"],[\"so\",\"ç´¢é©¬é‡Œè¯­\"],[\"sq\",\"é˜¿å°”å·´å°¼äºšè¯­\"],[\"sr-Cyrl\",\"å¡žå°”ç»´äºšè¯­ (è¥¿é‡Œå°”æ–‡)\"],[\"sr-Latn\",\"å¡žå°”ç»´äºšè¯­ (æ‹‰ä¸\\u0081æ–‡)\"],[\"st\",\"Sesotho\"],[\"sv\",\"ç‘žå…¸è¯­\"],[\"sw\",\"æ–¯ç“¦å¸Œé‡Œè¯­\"],[\"ta\",\"æ³°ç±³å°”è¯­\"],[\"te\",\"æ³°å\\u008d¢å›ºè¯­\"],[\"th\",\"æ³°è¯­\"],[\"ti\",\"æ\\u008f\\u0090æ ¼åˆ©å°¼äºšè¯­\"],[\"tk\",\"åœŸåº“æ›¼è¯­\"],[\"tlh-Latn\",\"å…‹æž—è´¡è¯­ (æ‹‰ä¸\\u0081æ–‡)\"],[\"tlh-Piqd\",\"å…‹æž—è´¡è¯­ (pIqaD)\"],[\"tn\",\"Setswana\"],[\"to\",\"æ±¤åŠ è¯­\"],[\"tr\",\"åœŸè€³å…¶è¯­\"],[\"tt\",\"éž‘é\\u009d¼è¯­\"],[\"ty\",\"å¡”å¸Œæ\\u008f\\u0090è¯­\"],[\"ug\",\"ç»´å\\u0090¾å°”è¯­\"],[\"uk\",\"ä¹Œå…‹å…°è¯­\"],[\"ur\",\"ä¹Œå°”éƒ½è¯­\"],[\"uz\",\"ä¹Œå…¹åˆ«å…‹è¯­\"],[\"vi\",\"è¶Šå\\u008d—è¯­\"],[\"xh\",\"ç§‘è\\u0090¨è¯­\"],[\"yo\",\"çº¦é²\\u0081å·´è¯­\"],[\"yua\",\"å°¤å\\u008d¡ç‰¹å…‹çŽ›é›…è¯­\"],[\"yue\",\"ç²¤è¯­ (ç¹\\u0081ä½“)\"],[\"zh-Hans\",\"ä¸­æ–‡ (ç®€ä½“)\"],[\"zh-Hant\",\"ä¸­æ–‡ (ç¹\\u0081ä½“)\"],[\"zu\",\"ç¥–é²\\u0081è¯­\"]]; WSS_FullScreenMode=false; rtFa=LIvCjPZMW/CPcTmc1wPgveLFGQt7a6HisTmdnPwFI3cmZTU4OThiN2EtOWM4Ny00YTRiLWIyMmEtMmRmM2YzNTVlMDFlIzEzMzUzNDc1MjA4NjI3NzA4MCNiZWE5MGZhMS00MDU4LTMwMDAtMGE1Ni02MzU4YzNhMTYxZjMjMTE4MDIwMDQzJTQwbGluay5jdWhrLmVkdS5jbiMxOTU4NjMjdnRHQ2JlVEdQZGlzUUtlaHZFc1BGLTFhTUpJN54psF2rATXQTj7x47TLJvDafSSk+1D+viN3cnNYlE0Oj/rGhFvIvcTpyAsjHenr/Eg1gtHy64Ygwkkc1UPA5gmerpUGDUMYAfpu0vml0cx1gyc3xuoymN2weHYphd15zxlMbGXsVyjeRXKTSUihWfwPVPwCJO5/ODbTuUScSYHABRiSl/nF63rcHTljY2sRilaDVc/CM5Uwvgmd/pAQKg3+5cSvSFvKY+MlQx2OzRDoBf2zlXqRVmLU5SYfOHerfZ82vm5u3zdf++gvoSXcTQUhjdiWOKktKHVmNYY2ChquT9UIQ86rS0Fc5MbngTQ6QayKzfZyR1A3gGLWabnQQ70AAAA=; SIMI=eyJzdCI6MH0=; MicrosoftApplicationsTelemetryDeviceId=5372ea14-bf9a-4f53-80d3-73fb73975e00; MSFPC=GUID=dd2fef3f25f647c9851457d58954a6d2&HASH=dd2f&LV=202402&V=4&LU=1708497642761; FedAuth=77u/PD94bWwgdmVyc2lvbj0iMS4wIiBlbmNvZGluZz0idXRmLTgiPz48U1A+VjEzLDBoLmZ8bWVtYmVyc2hpcHwxMDAzYmZmZGFjODk3MTU4QGxpdmUuY29tLDAjLmZ8bWVtYmVyc2hpcHwxMTgwMjAwNDNAbGluay5jdWhrLmVkdS5jbiwxMzM1MzQ3NTIwNzAwMDAwMDAsMTMzMjk3MTU0OTQwMDAwMDAwLDEzMzUzNjcwNTYwOTgyODM0NywxODUuMTUxLjE0Ni4xNiwyLGU1ODk4YjdhLTljODctNGE0Yi1iMjJhLTJkZjNmMzU1ZTAxZSwsYTc3YWI5YzgtZTIzZi00YWU3LThkOTEtMTFmNjMzYjYwNTMyLGJlYTkwZmExLTQwNTgtMzAwMC0wYTU2LTYzNThjM2ExNjFmMyxhNjExMTBhMS03MDBjLTMwMDAtMGE1Ni02NWRkNmUwYTkyZGUsLDAsMTMzNTM2NzA1NjA5MTYzMTMyLDEzMzUzODQzMzYwOTE2MzEzMiwsLGV5SjRiWE5mWTJNaU9pSmJYQ0pEVURGY0lsMGlMQ0o0YlhOZmMzTnRJam9pTVNJc0luQnlaV1psY25KbFpGOTFjMlZ5Ym1GdFpTSTZJakV4T0RBeU1EQTBNMEJzYVc1ckxtTjFhR3N1WldSMUxtTnVJaXdpZFhScElqb2lTVWcxT1ZWbVZXVnNSVWRKUVZwQlVqVjZWbTFCUVNKOSwyNjUwNDY3NzQzOTk5OTk5OTk5LDEzMzUzNDc1MjA4MDAwMDAwMCxlYjUzODJjMS0wNTQxLTRlYWEtYTU3OS05YjRiNmUzNWFlOTUsLCwsLCwwLCwxOTU4NjMsRGFEQWZqUVFtcHlPWHgyUnJLX1c1bHZvTFo0LFZCVlI1eFVGSXVRL09EYlJ6ZEN1aEd4elZiWTFuWmhyZGh4QTB1L0pYbkpOWnRPMHU4MVRoaDIzQzVUS01hV0RscGNPcDRJK1d3b01keVdMZFZ3NWREY08xQ082WVVjL0NIK016N2JTb203dm5LSDA4V1VFbUtyQ1dnTXBqTXBmVFJVVW81V05Qc09XNXd4dUF2MU1TV0NMRnJsS2U3YkVhWXpDeUZ6M1JHa2s2amUzMjViUzdISUI3alZmZTRNdmtQZ2hPN2JmSkFKcHRPVG5NVmJ2TGJQbStSaXhGTUlCTmZwZ056ZzZIbHR4RzZJSEtDTDRhM2Ewek1zYWtwdGlkdkE0ek5MUjhCQ2k0Y1VwYVppRWlidXFMaldFQzAxYzhxa0x6dG1TN1Z0TjBMaERSNm11NFMwS2Z1ZU1aeG11d2V6TlZHcDdWOHpjckVreU9abUl0dz09PC9TUD4=; ai_session=baDl0HqHJ8ei7iE0A2Rbyz|1709125911838|1709125911846' \\\n",
    "  -H 'referer: https://cuhko365-my.sharepoint.com/personal/118020043_link_cuhk_edu_cn/_layouts/15/onedrive.aspx?view=0' \\\n",
    "  -H 'sec-ch-ua: \"Not A(Brand\";v=\"99\", \"Google Chrome\";v=\"121\", \"Chromium\";v=\"121\"' \\\n",
    "  -H 'sec-ch-ua-mobile: ?0' \\\n",
    "  -H 'sec-ch-ua-platform: \"macOS\"' \\\n",
    "  -H 'sec-fetch-dest: iframe' \\\n",
    "  -H 'sec-fetch-mode: navigate' \\\n",
    "  -H 'sec-fetch-site: same-origin' \\\n",
    "  -H 'sec-fetch-user: ?1' \\\n",
    "  -H 'service-worker-navigation-preload: true' \\\n",
    "  -H 'upgrade-insecure-requests: 1' \\\n",
    "  -H 'user-agent: Mozilla/5.0 (Macintosh; Intel Mac OS X 10_15_7) AppleWebKit/537.36 (KHTML, like Gecko) Chrome/121.0.0.0 Safari/537.36' \\\n",
    "  --compressed \\\n",
    "  --output data.zip"
   ]
  }
 ],
 "metadata": {
  "kernelspec": {
   "display_name": "cryptoresearch",
   "language": "python",
   "name": "python3"
  },
  "language_info": {
   "codemirror_mode": {
    "name": "ipython",
    "version": 3
   },
   "file_extension": ".py",
   "mimetype": "text/x-python",
   "name": "python",
   "nbconvert_exporter": "python",
   "pygments_lexer": "ipython3",
   "version": "3.11.7"
  }
 },
 "nbformat": 4,
 "nbformat_minor": 2
}
