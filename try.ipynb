{
 "cells": [
  {
   "cell_type": "code",
   "execution_count": 1,
   "metadata": {},
   "outputs": [
    {
     "name": "stdout",
     "output_type": "stream",
     "text": [
      "backtest on:  ['btc_usdt_binance', 'eth_usdt_binance', 'xrp_usdt_binance']\n",
      "/*----- start initialize the DataHandler -----*/\n",
      "/*----- DataHandler initialization ends -----*/\n",
      "\n",
      "===== reload data from new hour =====\n"
     ]
    }
   ],
   "source": [
    "import queue\n",
    "import time\n",
    "import os\n",
    "import sys\n",
    "\n",
    "from DataHandler.LOBHourlyDataHandler import HistoricLOBHourlyDataHandler\n",
    "from Strategy.strategy import BuyAndHoldStrategy\n",
    "from Portfolio.LogPlotPortfolio import LogPlotPortfolio\n",
    "from Execution.execution import SimulatedExecutionHandler\n",
    "\n",
    "event_queue = queue.Queue()\n",
    "data_handler = HistoricLOBHourlyDataHandler(event_queue, \n",
    "                                           symbol_list=['btc_usdt','eth_usdt','xrp_usdt'],\n",
    "                                           exchange_list=['binance','binance','binance'], \n",
    "                                           file_dir = 'data_sample/small_sample/', \n",
    "                                           # file_dir = 'data_sample/',\n",
    "                                           is_csv=False)\n",
    "#sys.exit()\n",
    "\n",
    "portfolio = LogPlotPortfolio(event_queue, data_handler)      # 组合\n",
    "executor = SimulatedExecutionHandler(event_queue, data_handler)   # 回测模拟成交器；如果是实盘这里就是算法交易模块\n",
    "strategy = BuyAndHoldStrategy(event_queue, data_handler, portfolio, executor)       # 策略实例。实际应用中应该有多个策略实例\n",
    "\n",
    "cnt = 0\n",
    "while True:\n",
    "    # Update the trade/LOB (specific backtest code, as opposed to live trading)\n",
    "    if data_handler.continue_backtest == True:\n",
    "        data_handler.update_TradeLOB()\n",
    "    else:\n",
    "        break\n",
    "    \n",
    "    # cnt+=1\n",
    "    # if cnt>2000: break\n",
    "\n",
    "    # Handle the events\n",
    "    while True:\n",
    "        try:\n",
    "            event = event_queue.get(False)\n",
    "        except queue.Empty:\n",
    "            break\n",
    "        else:\n",
    "            if event is not None:\n",
    "\n",
    "                if event.type == 'MARKET':\n",
    "                    print('get market event', event)\n",
    "                    strategy.calculate_signals(event)\n",
    "                    portfolio.update_holdings_from_market()\n",
    "                    executor.on_market_event(event)\n",
    "\n",
    "                elif event.type == 'ORDER':\n",
    "                    executor.on_order_event(event)\n",
    "\n",
    "                # elif event.type == 'FILL':\n",
    "                #     print('get fill event', event)\n",
    "                #     #portfolio.update_positions_from_fill(event)\n",
    "                #     strategy\n",
    "                #     sys.exit()"
   ]
  },
  {
   "cell_type": "code",
   "execution_count": null,
   "metadata": {},
   "outputs": [],
   "source": []
  },
  {
   "cell_type": "code",
   "execution_count": null,
   "metadata": {},
   "outputs": [],
   "source": []
  },
  {
   "cell_type": "code",
   "execution_count": null,
   "metadata": {},
   "outputs": [],
   "source": []
  },
  {
   "cell_type": "code",
   "execution_count": null,
   "metadata": {},
   "outputs": [],
   "source": []
  },
  {
   "cell_type": "code",
   "execution_count": null,
   "metadata": {},
   "outputs": [],
   "source": []
  }
 ],
 "metadata": {
  "kernelspec": {
   "display_name": "cryptoresearch",
   "language": "python",
   "name": "python3"
  },
  "language_info": {
   "codemirror_mode": {
    "name": "ipython",
    "version": 3
   },
   "file_extension": ".py",
   "mimetype": "text/x-python",
   "name": "python",
   "nbconvert_exporter": "python",
   "pygments_lexer": "ipython3",
   "version": "3.11.7"
  }
 },
 "nbformat": 4,
 "nbformat_minor": 2
}
