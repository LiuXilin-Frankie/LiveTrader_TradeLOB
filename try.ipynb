{
 "cells": [
  {
   "cell_type": "code",
   "execution_count": 1,
   "metadata": {},
   "outputs": [],
   "source": [
    "import queue\n",
    "\n",
    "from DataHandler.TradeLOBDataHandler import HistoricTradeLOBDataHandler"
   ]
  },
  {
   "cell_type": "code",
   "execution_count": 2,
   "metadata": {},
   "outputs": [
    {
     "name": "stdout",
     "output_type": "stream",
     "text": [
      "backtest on:  ['xrp_usdt_binance', 'xrp_usdt_okex']\n",
      "/*----- start initialize the DataHandler -----*/\n",
      "complete init of the data: xrp_usdt_binance\n",
      "complete init of the data: xrp_usdt_okex\n",
      "/*----- DataHandler initialization ends -----*/\n"
     ]
    }
   ],
   "source": [
    "event_queue = queue.Queue()\n",
    "data_handler = HistoricTradeLOBDataHandler(event_queue, \n",
    "                                           symbol_list=['xrp_usdt','xrp_usdt'],\n",
    "                                           exchange_list=['binance','okex'], \n",
    "                                           file_dir='data_sample/', \n",
    "                                           is_csv=False)"
   ]
  },
  {
   "cell_type": "code",
   "execution_count": 3,
   "metadata": {},
   "outputs": [],
   "source": [
    "from Strategy.strategy import *\n",
    "strategy = BuyAndHoldStrategy(event_queue, data_handler)       # 策略实例。实际应用中应该有多个策略实例\n",
    "# portfolio = NaivePortfolio(event_queue, data_handler)      # 组合\n",
    "# executor = BarBacktestExector(event_queue, data_handler)   # 回测模拟成交器；如果是实盘这里就是算法交易模块\n",
    "\n",
    "while True:\n",
    "    # Update the bars (specific backtest code, as opposed to live trading)\n",
    "    if data_handler.continue_backtest == True:\n",
    "        data_handler.update_TradeLOB()\n",
    "    else:\n",
    "        break\n",
    "    \n",
    "    # Handle the events\n",
    "    while True:\n",
    "        try:\n",
    "            event = event_queue.get(False)\n",
    "        except queue.Empty:\n",
    "            break\n",
    "        else:\n",
    "            if event is not None:\n",
    "                if event.type == 'MARKET':\n",
    "                    print('get market event', event)\n",
    "                    strategy.calculate_signals(event)\n",
    "                    #portfolio.update_timeindex(event)\n",
    "\n",
    "                elif event.type == 'SIGNAL':\n",
    "                    #portfolio.update_signal(event)\n",
    "                    print('get signal event', event)\n",
    "\n",
    "                # elif event.type == 'ORDER':\n",
    "                #     executor.execute_order(event)\n",
    "\n",
    "                # elif event.type == 'FILL':\n",
    "                #     portfolio.update_fill(event)\n"
   ]
  },
  {
   "cell_type": "code",
   "execution_count": null,
   "metadata": {},
   "outputs": [],
   "source": []
  },
  {
   "cell_type": "code",
   "execution_count": null,
   "metadata": {},
   "outputs": [],
   "source": []
  },
  {
   "cell_type": "code",
   "execution_count": null,
   "metadata": {},
   "outputs": [],
   "source": []
  },
  {
   "cell_type": "code",
   "execution_count": null,
   "metadata": {},
   "outputs": [
    {
     "data": {
      "text/plain": [
       "[192, 182, 196]"
      ]
     },
     "execution_count": 3,
     "metadata": {},
     "output_type": "execute_result"
    }
   ],
   "source": [
    "tmp = {192:'a', 182:'e', 196:'r',}\n",
    "list(tmp.keys())"
   ]
  },
  {
   "cell_type": "code",
   "execution_count": null,
   "metadata": {},
   "outputs": [
    {
     "data": {
      "text/plain": [
       "[(182, 'e'), (192, 'a'), (196, 'r')]"
      ]
     },
     "execution_count": 4,
     "metadata": {},
     "output_type": "execute_result"
    }
   ],
   "source": [
    "tmp = {192:'a', 182:'e', 196:'r'}\n",
    "sorted(tmp.items(), key=lambda x:x[0])"
   ]
  },
  {
   "cell_type": "code",
   "execution_count": null,
   "metadata": {},
   "outputs": [],
   "source": []
  }
 ],
 "metadata": {
  "kernelspec": {
   "display_name": "cryptoresearch",
   "language": "python",
   "name": "python3"
  },
  "language_info": {
   "codemirror_mode": {
    "name": "ipython",
    "version": 3
   },
   "file_extension": ".py",
   "mimetype": "text/x-python",
   "name": "python",
   "nbconvert_exporter": "python",
   "pygments_lexer": "ipython3",
   "version": "3.11.7"
  }
 },
 "nbformat": 4,
 "nbformat_minor": 2
}
