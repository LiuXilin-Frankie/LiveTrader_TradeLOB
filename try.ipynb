{
 "cells": [
  {
   "cell_type": "code",
   "execution_count": 1,
   "metadata": {},
   "outputs": [
    {
     "name": "stdout",
     "output_type": "stream",
     "text": [
      "backtest on:  ['btc_usdt_binance', 'eth_usdt_binance', 'xrp_usdt_binance']\n",
      "/*----- start initialize the DataHandler -----*/\n",
      "complete init of the data: btc_usdt_binance\n",
      "complete init of the data: eth_usdt_binance\n",
      "complete init of the data: xrp_usdt_binance\n",
      "/*----- DataHandler initialization ends -----*/\n",
      "\n",
      "===== processing market event in  1702745999998  =====\n",
      "get new market events and push to queue\n",
      "get market event {'type': 'MARKET'}\n",
      "\n",
      "===== processing market event in  1702745999999  =====\n",
      "get new market events and push to queue\n",
      "get market event {'type': 'MARKET'}\n",
      "\n",
      "===== processing market event in  1702746000000  =====\n",
      "get new market events and push to queue\n",
      "get market event {'type': 'MARKET'}\n",
      "\n",
      "===== processing market event in  1702746000001  =====\n",
      "get new market events and push to queue\n",
      "get market event {'type': 'MARKET'}\n",
      "\n",
      "===== processing market event in  1702746000002  =====\n",
      "get new market events and push to queue\n",
      "get market event {'type': 'MARKET'}\n",
      "\n",
      "===== processing market event in  1702746000003  =====\n",
      "get new market events and push to queue\n",
      "get market event {'type': 'MARKET'}\n",
      "\n",
      "===== processing market event in  1702746000004  =====\n",
      "get new market events and push to queue\n",
      "get market event {'type': 'MARKET'}\n",
      "\n",
      "===== processing market event in  1702746000005  =====\n",
      "get new market events and push to queue\n",
      "get market event {'type': 'MARKET'}\n",
      "\n",
      "===== processing market event in  1702746000006  =====\n",
      "get new market events and push to queue\n",
      "get market event {'type': 'MARKET'}\n",
      "\n",
      "===== processing market event in  1702746000007  =====\n",
      "get new market events and push to queue\n",
      "get market event {'type': 'MARKET'}\n",
      "\n",
      "===== processing market event in  1702746000008  =====\n",
      "get new market events and push to queue\n",
      "get market event {'type': 'MARKET'}\n",
      "\n",
      "===== processing market event in  1702746000009  =====\n",
      "get new market events and push to queue\n",
      "get market event {'type': 'MARKET'}\n",
      "\n",
      "===== processing market event in  1702746000010  =====\n",
      "get new market events and push to queue\n",
      "get market event {'type': 'MARKET'}\n",
      "\n",
      "===== processing market event in  1702746000011  =====\n",
      "get new market events and push to queue\n",
      "get market event {'type': 'MARKET'}\n",
      "\n",
      "===== processing market event in  1702746000012  =====\n",
      "get new market events and push to queue\n",
      "get market event {'type': 'MARKET'}\n",
      "\n",
      "===== processing market event in  1702746000013  =====\n",
      "get new market events and push to queue\n",
      "get market event {'type': 'MARKET'}\n",
      "\n",
      "===== processing market event in  1702746000014  =====\n",
      "get new market events and push to queue\n",
      "get market event {'type': 'MARKET'}\n",
      "\n",
      "===== processing market event in  1702746000015  =====\n",
      "get new market events and push to queue\n",
      "get market event {'type': 'MARKET'}\n",
      "\n",
      "===== processing market event in  1702746000016  =====\n",
      "get new market events and push to queue\n",
      "get market event {'type': 'MARKET'}\n",
      "\n",
      "===== processing market event in  1702746000017  =====\n",
      "get new market events and push to queue\n",
      "get market event {'type': 'MARKET'}\n",
      "\n",
      "===== processing market event in  1702746000018  =====\n",
      "get new market events and push to queue\n",
      "get market event {'type': 'MARKET'}\n",
      "\n",
      "===== processing market event in  1702746000019  =====\n",
      "get new market events and push to queue\n",
      "get market event {'type': 'MARKET'}\n",
      "\n",
      "===== processing market event in  1702746000021  =====\n",
      "get new market events and push to queue\n",
      "get market event {'type': 'MARKET'}\n",
      "\n",
      "===== processing market event in  1702746000022  =====\n",
      "get new market events and push to queue\n",
      "get market event {'type': 'MARKET'}\n",
      "\n",
      "===== processing market event in  1702746000024  =====\n",
      "get new market events and push to queue\n",
      "get market event {'type': 'MARKET'}\n",
      "\n",
      "===== processing market event in  1702746000025  =====\n",
      "get new market events and push to queue\n",
      "get market event {'type': 'MARKET'}\n",
      "\n",
      "===== processing market event in  1702746000028  =====\n",
      "get new market events and push to queue\n",
      "get market event {'type': 'MARKET'}\n",
      "\n",
      "===== processing market event in  1702746000041  =====\n",
      "get new market events and push to queue\n",
      "get market event {'type': 'MARKET'}\n",
      "\n",
      "===== processing market event in  1702746000154  =====\n",
      "get new market events and push to queue\n",
      "get market event {'type': 'MARKET'}\n"
     ]
    },
    {
     "ename": "KeyError",
     "evalue": "1702746000024",
     "output_type": "error",
     "traceback": [
      "\u001b[0;31m---------------------------------------------------------------------------\u001b[0m",
      "\u001b[0;31mKeyError\u001b[0m                                  Traceback (most recent call last)",
      "Cell \u001b[0;32mIn[1], line 48\u001b[0m\n\u001b[1;32m     46\u001b[0m     strategy\u001b[38;5;241m.\u001b[39mcalculate_signals(event)\n\u001b[1;32m     47\u001b[0m     portfolio\u001b[38;5;241m.\u001b[39mupdate_holdings_from_market()\n\u001b[0;32m---> 48\u001b[0m     executor\u001b[38;5;241m.\u001b[39mon_market_event(event)\n\u001b[1;32m     50\u001b[0m \u001b[38;5;28;01melif\u001b[39;00m event\u001b[38;5;241m.\u001b[39mtype \u001b[38;5;241m==\u001b[39m \u001b[38;5;124m'\u001b[39m\u001b[38;5;124mORDER\u001b[39m\u001b[38;5;124m'\u001b[39m:\n\u001b[1;32m     51\u001b[0m     executor\u001b[38;5;241m.\u001b[39mon_order_event(event)\n",
      "File \u001b[0;32m~/LiveTrader_TradeLOB/Execution/execution.py:85\u001b[0m, in \u001b[0;36mSimulatedExecutionHandler.on_market_event\u001b[0;34m(self, event)\u001b[0m\n\u001b[1;32m     83\u001b[0m \u001b[38;5;28;01mif\u001b[39;00m \u001b[38;5;28mself\u001b[39m\u001b[38;5;241m.\u001b[39mlive_orders_on_exchange_min_time[s] \u001b[38;5;241m>\u001b[39m time_now: \u001b[38;5;28;01mcontinue\u001b[39;00m\n\u001b[1;32m     84\u001b[0m \u001b[38;5;66;03m# 检查撮合\u001b[39;00m\n\u001b[0;32m---> 85\u001b[0m \u001b[38;5;28mself\u001b[39m\u001b[38;5;241m.\u001b[39mtry_excute_order(s)\n",
      "File \u001b[0;32m~/LiveTrader_TradeLOB/Execution/execution.py:99\u001b[0m, in \u001b[0;36mSimulatedExecutionHandler.try_excute_order\u001b[0;34m(self, s)\u001b[0m\n\u001b[1;32m     96\u001b[0m \u001b[38;5;28;01mif\u001b[39;00m order_tobe_execute\u001b[38;5;241m.\u001b[39mtimestamp \u001b[38;5;241m>\u001b[39m time_now: \u001b[38;5;28;01mcontinue\u001b[39;00m\n\u001b[1;32m     98\u001b[0m \u001b[38;5;28;01mif\u001b[39;00m order_tobe_execute\u001b[38;5;241m.\u001b[39morder_type \u001b[38;5;241m==\u001b[39m \u001b[38;5;124m\"\u001b[39m\u001b[38;5;124mMARKET\u001b[39m\u001b[38;5;124m\"\u001b[39m:\n\u001b[0;32m---> 99\u001b[0m     is_traded \u001b[38;5;241m=\u001b[39m \u001b[38;5;28mself\u001b[39m\u001b[38;5;241m.\u001b[39mexecute_market_order(order_tobe_execute)\n\u001b[1;32m    100\u001b[0m     \u001b[38;5;28;01mif\u001b[39;00m is_traded: \n\u001b[1;32m    101\u001b[0m         \u001b[38;5;28mself\u001b[39m\u001b[38;5;241m.\u001b[39mlive_orders_on_exchange[s]\u001b[38;5;241m.\u001b[39mpop(i)\n",
      "File \u001b[0;32m~/LiveTrader_TradeLOB/Execution/execution.py:123\u001b[0m, in \u001b[0;36mSimulatedExecutionHandler.execute_market_order\u001b[0;34m(self, order)\u001b[0m\n\u001b[1;32m    119\u001b[0m     \u001b[38;5;28;01mraise\u001b[39;00m \u001b[38;5;167;01mRuntimeError\u001b[39;00m(\u001b[38;5;124m'\u001b[39m\u001b[38;5;124mNot market order but use execute_market_order func, please check your code\u001b[39m\u001b[38;5;124m'\u001b[39m)\n\u001b[1;32m    121\u001b[0m \u001b[38;5;66;03m# 获取最新的LOB数据\u001b[39;00m\n\u001b[1;32m    122\u001b[0m \u001b[38;5;66;03m### 这里可能出现 订单簿的更显时间与回测系统的 backtest_now 不一致的情况。默认订单簿没有发生改变\u001b[39;00m\n\u001b[0;32m--> 123\u001b[0m live_LOB \u001b[38;5;241m=\u001b[39m \u001b[38;5;28mself\u001b[39m\u001b[38;5;241m.\u001b[39mdatahandler\u001b[38;5;241m.\u001b[39mregistered_symbol_exchange_LOB_data[\u001b[38;5;28mself\u001b[39m\u001b[38;5;241m.\u001b[39mdatahandler\u001b[38;5;241m.\u001b[39mlatest_symbol_exchange_LOB_data_time[order\u001b[38;5;241m.\u001b[39msymbol]][\u001b[38;5;241m0\u001b[39m]\n\u001b[1;32m    125\u001b[0m \u001b[38;5;66;03m# 生成成交价格\u001b[39;00m\n\u001b[1;32m    126\u001b[0m \u001b[38;5;66;03m### 系统忽略交易量这个概念，如果订单下单量超过订单簿的量会生成警告\u001b[39;00m\n\u001b[1;32m    127\u001b[0m \u001b[38;5;28;01mif\u001b[39;00m order\u001b[38;5;241m.\u001b[39mdirection \u001b[38;5;241m==\u001b[39m \u001b[38;5;124m'\u001b[39m\u001b[38;5;124mBUY\u001b[39m\u001b[38;5;124m'\u001b[39m:\n",
      "\u001b[0;31mKeyError\u001b[0m: 1702746000024"
     ]
    }
   ],
   "source": [
    "import queue\n",
    "import time\n",
    "import os\n",
    "import sys\n",
    "\n",
    "from DataHandler.TradeLOBDataHandler import HistoricTradeLOBDataHandler\n",
    "from Strategy.strategy import BuyAndHoldStrategy\n",
    "from Portfolio.LogPlotPortfolio import LogPlotPortfolio\n",
    "from Execution.execution import SimulatedExecutionHandler\n",
    "\n",
    "event_queue = queue.Queue()\n",
    "data_handler = HistoricTradeLOBDataHandler(event_queue, \n",
    "                                           symbol_list=['btc_usdt','eth_usdt','xrp_usdt'],\n",
    "                                           exchange_list=['binance','binance','binance'], \n",
    "                                           file_dir = 'data_sample/small_sample/', \n",
    "                                           # file_dir = 'data_sample/',\n",
    "                                           is_csv=False)\n",
    "\n",
    "\n",
    "portfolio = LogPlotPortfolio(event_queue, data_handler)      # 组合\n",
    "executor = SimulatedExecutionHandler(event_queue, data_handler)   # 回测模拟成交器；如果是实盘这里就是算法交易模块\n",
    "strategy = BuyAndHoldStrategy(event_queue, data_handler, portfolio, executor)       # 策略实例。实际应用中应该有多个策略实例\n",
    "\n",
    "\n",
    "cnt = 0\n",
    "while True:\n",
    "    # Update the bars (specific backtest code, as opposed to live trading)\n",
    "    if data_handler.continue_backtest == True:\n",
    "        data_handler.update_TradeLOB()\n",
    "    else:\n",
    "        break\n",
    "    \n",
    "    if cnt==1: break\n",
    "\n",
    "    # Handle the events\n",
    "    while True:\n",
    "        try:\n",
    "            event = event_queue.get(False)\n",
    "        except queue.Empty:\n",
    "            break\n",
    "        else:\n",
    "            if event is not None:\n",
    "\n",
    "                if event.type == 'MARKET':\n",
    "                    print('get market event', event)\n",
    "                    strategy.calculate_signals(event)\n",
    "                    portfolio.update_holdings_from_market()\n",
    "                    executor.on_market_event(event)\n",
    "\n",
    "                elif event.type == 'ORDER':\n",
    "                    executor.on_order_event(event)\n",
    "                    # cnt = 1\n",
    "                    # break\n",
    "\n",
    "                elif event.type == 'FILL':\n",
    "                    print('get fill event', event)\n",
    "                    #portfolio.update_positions_from_fill(event)\n",
    "                    cnt = 1\n",
    "                    break"
   ]
  },
  {
   "cell_type": "code",
   "execution_count": null,
   "metadata": {},
   "outputs": [
    {
     "data": {
      "text/plain": [
       "1702746000100"
      ]
     },
     "execution_count": 2,
     "metadata": {},
     "output_type": "execute_result"
    }
   ],
   "source": [
    "event.timestamp"
   ]
  },
  {
   "cell_type": "code",
   "execution_count": null,
   "metadata": {},
   "outputs": [],
   "source": []
  },
  {
   "cell_type": "code",
   "execution_count": null,
   "metadata": {},
   "outputs": [],
   "source": []
  },
  {
   "cell_type": "code",
   "execution_count": null,
   "metadata": {},
   "outputs": [],
   "source": []
  },
  {
   "cell_type": "code",
   "execution_count": null,
   "metadata": {},
   "outputs": [
    {
     "data": {
      "text/plain": [
       "[192, 182, 196, 200]"
      ]
     },
     "execution_count": 3,
     "metadata": {},
     "output_type": "execute_result"
    }
   ],
   "source": [
    "tmp = {192:'a', 182:'e', 196:'r',200:None}\n",
    "list(tmp.keys())"
   ]
  },
  {
   "cell_type": "code",
   "execution_count": null,
   "metadata": {},
   "outputs": [
    {
     "data": {
      "text/plain": [
       "[(182, 'e'), (192, 'a'), (196, 'r'), (200, None)]"
      ]
     },
     "execution_count": 4,
     "metadata": {},
     "output_type": "execute_result"
    }
   ],
   "source": [
    "sorted(tmp.items(), key=lambda x:x[0])"
   ]
  },
  {
   "cell_type": "code",
   "execution_count": null,
   "metadata": {},
   "outputs": [
    {
     "data": {
      "text/plain": [
       "False"
      ]
     },
     "execution_count": 5,
     "metadata": {},
     "output_type": "execute_result"
    }
   ],
   "source": [
    "tmp[200] ==False"
   ]
  },
  {
   "cell_type": "code",
   "execution_count": null,
   "metadata": {},
   "outputs": [
    {
     "data": {
      "text/plain": [
       "'e'"
      ]
     },
     "execution_count": 6,
     "metadata": {},
     "output_type": "execute_result"
    }
   ],
   "source": [
    "tmp[182]"
   ]
  },
  {
   "cell_type": "code",
   "execution_count": null,
   "metadata": {},
   "outputs": [],
   "source": []
  },
  {
   "cell_type": "code",
   "execution_count": null,
   "metadata": {},
   "outputs": [
    {
     "data": {
      "text/plain": [
       "{'as': {}, 'bb': {}}"
      ]
     },
     "execution_count": 7,
     "metadata": {},
     "output_type": "execute_result"
    }
   ],
   "source": [
    "dict( (k,v) for k, v in [(s, {}) for s in ['as','bb']] )"
   ]
  },
  {
   "cell_type": "code",
   "execution_count": null,
   "metadata": {},
   "outputs": [],
   "source": []
  },
  {
   "cell_type": "code",
   "execution_count": null,
   "metadata": {},
   "outputs": [
    {
     "data": {
      "text/plain": [
       "'binance'"
      ]
     },
     "execution_count": 8,
     "metadata": {},
     "output_type": "execute_result"
    }
   ],
   "source": [
    "tmp = 'xrp_usdt_binance'\n",
    "tmp.split(\"_\")[-1]"
   ]
  },
  {
   "cell_type": "code",
   "execution_count": null,
   "metadata": {},
   "outputs": [],
   "source": []
  },
  {
   "cell_type": "code",
   "execution_count": null,
   "metadata": {},
   "outputs": [],
   "source": []
  },
  {
   "cell_type": "code",
   "execution_count": null,
   "metadata": {},
   "outputs": [],
   "source": [
    "import pandas as pd\n",
    "\n",
    "name = 'xrp_usdt_binance_trade.parquet'\n",
    "tmp = pd.read_parquet('data_sample/'+name)\n",
    "tmp = tmp.loc[tmp.time<1702756000000,]\n",
    "tmp.to_parquet('data_sample/small_sample/'+name)"
   ]
  }
 ],
 "metadata": {
  "kernelspec": {
   "display_name": "cryptoresearch",
   "language": "python",
   "name": "python3"
  },
  "language_info": {
   "codemirror_mode": {
    "name": "ipython",
    "version": 3
   },
   "file_extension": ".py",
   "mimetype": "text/x-python",
   "name": "python",
   "nbconvert_exporter": "python",
   "pygments_lexer": "ipython3",
   "version": "3.11.7"
  }
 },
 "nbformat": 4,
 "nbformat_minor": 2
}
