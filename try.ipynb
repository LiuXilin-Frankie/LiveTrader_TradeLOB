{
 "cells": [
  {
   "cell_type": "code",
   "execution_count": 1,
   "metadata": {},
   "outputs": [],
   "source": [
    "import queue\n",
    "\n",
    "from DataHandler.TradeLOBDataHandler import HistoricTradeLOBDataHandler"
   ]
  },
  {
   "cell_type": "code",
   "execution_count": 2,
   "metadata": {},
   "outputs": [
    {
     "name": "stdout",
     "output_type": "stream",
     "text": [
      "backtest on:  ['btc_usdt_binance', 'btc_usdt_okex']\n",
      "/*----- start initialize the DataHandler -----*/\n"
     ]
    },
    {
     "name": "stdout",
     "output_type": "stream",
     "text": [
      "complete init of the data: btc_usdt_binance\n",
      "complete init of the data: btc_usdt_okex\n",
      "/*----- DataHandler initialization ends -----*/\n"
     ]
    }
   ],
   "source": [
    "event_queue = queue.Queue()\n",
    "data_handler = HistoricTradeLOBDataHandler(event_queue, \n",
    "                                           symbol_list=['btc_usdt','btc_usdt'],\n",
    "                                           exchange_list=['binance','okex'], \n",
    "                                           file_dir = 'data_sample/', \n",
    "                                           is_csv=False)"
   ]
  },
  {
   "cell_type": "code",
   "execution_count": 3,
   "metadata": {},
   "outputs": [],
   "source": [
    "from Strategy.strategy import *\n",
    "strategy = BuyAndHoldStrategy(event_queue, data_handler)       # 策略实例。实际应用中应该有多个策略实例\n",
    "# portfolio = NaivePortfolio(event_queue, data_handler)      # 组合\n",
    "# executor = BarBacktestExector(event_queue, data_handler)   # 回测模拟成交器；如果是实盘这里就是算法交易模块\n",
    "\n",
    "while True:\n",
    "    # Update the bars (specific backtest code, as opposed to live trading)\n",
    "    if data_handler.continue_backtest == True:\n",
    "        data_handler.update_TradeLOB()\n",
    "    else:\n",
    "        break\n",
    "    \n",
    "    # Handle the events\n",
    "    while True:\n",
    "        try:\n",
    "            event = event_queue.get(False)\n",
    "        except queue.Empty:\n",
    "            break\n",
    "        else:\n",
    "            if event is not None:\n",
    "                if event.type == 'MARKET':\n",
    "                    print('get market event', event)\n",
    "                    strategy.calculate_signals(event)\n",
    "                    #portfolio.update_timeindex(event)\n",
    "\n",
    "                elif event.type == 'SIGNAL':\n",
    "                    #portfolio.update_signal(event)\n",
    "                    print('get signal event', event)\n",
    "\n",
    "                # elif event.type == 'ORDER':\n",
    "                #     executor.execute_order(event)\n",
    "\n",
    "                # elif event.type == 'FILL':\n",
    "                #     portfolio.update_fill(event)\n"
   ]
  },
  {
   "cell_type": "code",
   "execution_count": null,
   "metadata": {},
   "outputs": [],
   "source": []
  },
  {
   "cell_type": "code",
   "execution_count": null,
   "metadata": {},
   "outputs": [],
   "source": [
    "curl 'https://cuhko365-my.sharepoint.com/personal/118020043_link_cuhk_edu_cn/_layouts/15/download.aspx?UniqueId=74b3ea6e%2D8588%2D4551%2D8deb%2D562b31e42154' \\\n",
    "  -H 'Accept: text/html,application/xhtml+xml,application/xml;q=0.9,image/avif,image/webp,image/apng,*/*;q=0.8,application/signed-exchange;v=b3;q=0.7' \\\n",
    "  -H 'Accept-Language: zh-CN,zh;q=0.9,en;q=0.8' \\\n",
    "  -H 'Connection: keep-alive' \\\n",
    "  -H $'Cookie: Syntex_Translation_Languages=[[\"af\",\"å\\u008d—é\\u009džè\\u008d·å…°è¯­\"],[\"am\",\"é˜¿å§†å“ˆæ‹‰è¯­\"],[\"ar\",\"é˜¿æ‹‰ä¼¯è¯­\"],[\"as\",\"é˜¿è\\u0090¨å§†è¯­\"],[\"az\",\"é˜¿å¡žæ‹œç–†è¯­\"],[\"ba\",\"å·´ä»€åŸºå°”è¯­\"],[\"bg\",\"ä¿\\u009dåŠ åˆ©äºšè¯­\"],[\"bho\",\"Bhojpuri\"],[\"bn\",\"å­ŸåŠ æ‹‰è¯­\"],[\"bo\",\"è—\\u008fè¯­\"],[\"brx\",\"Bodo\"],[\"bs\",\"æ³¢æ–¯å°¼äºšè¯­\"],[\"ca\",\"åŠ æ³°ç½—å°¼äºšè¯­\"],[\"cs\",\"æ\\u008d·å…‹è¯­\"],[\"cy\",\"å¨\\u0081å°”å£«è¯­\"],[\"da\",\"ä¸¹éº¦è¯­\"],[\"de\",\"å¾·è¯­\"],[\"doi\",\"Dogri\"],[\"dsb\",\"ä¸‹ç´¢å¸ƒè¯­\"],[\"dv\",\"è¿ªç»´å¸Œè¯­\"],[\"el\",\"å¸Œè…Šè¯­\"],[\"en\",\"è‹±è¯­\"],[\"es\",\"è¥¿ç\\u008f­ç‰™è¯­\"],[\"et\",\"çˆ±æ²™å°¼äºšè¯­\"],[\"eu\",\"å·´æ–¯å…‹è¯­\"],[\"fa\",\"æ³¢æ–¯è¯­\"],[\"fi\",\"èŠ¬å…°è¯­\"],[\"fil\",\"è\\u008f²å¾‹å®¾è¯­\"],[\"fj\",\"æ–\\u0090æµŽè¯­\"],[\"fo\",\"æ³•ç½—è¯­\"],[\"fr\",\"æ³•è¯­\"],[\"fr-CA\",\"æ³•è¯­ (åŠ æ‹¿å¤§)\"],[\"ga\",\"çˆ±å°”å…°è¯­\"],[\"gl\",\"åŠ åˆ©è¥¿äºšè¯­\"],[\"gom\",\"Konkani\"],[\"gu\",\"å\\u008f¤å\\u0090‰æ‹‰ç‰¹è¯­\"],[\"ha\",\"è±ªè\\u0090¨è¯­\"],[\"he\",\"å¸Œä¼¯æ\\u009d¥è¯­\"],[\"hi\",\"å\\u008d°åœ°è¯­\"],[\"hne\",\"Chhattisgarhi\"],[\"hr\",\"å…‹ç½—åœ°äºšè¯­\"],[\"hsb\",\"ä¸Šç´¢å¸ƒè¯­\"],[\"ht\",\"æµ·åœ°å…‹é‡Œå¥¥å°”è¯­\"],[\"hu\",\"åŒˆç‰™åˆ©è¯­\"],[\"hy\",\"äºšç¾Žå°¼äºšè¯­\"],[\"id\",\"å\\u008d°åº¦å°¼è¥¿äºšè¯­\"],[\"ig\",\"ä¼Šå\\u008dšè¯­\"],[\"ikt\",\"Inuinnaqtun\"],[\"is\",\"å†°å²›è¯­\"],[\"it\",\"æ„\\u008få¤§åˆ©è¯­\"],[\"iu\",\"å› çº½ç‰¹è¯­\"],[\"iu-Latn\",\"Inuktitut (Latin)\"],[\"ja\",\"æ—¥è¯­\"],[\"ka\",\"æ ¼é²\\u0081å\\u0090‰äºšè¯­\"],[\"kk\",\"å“ˆè\\u0090¨å…‹è¯­\"],[\"km\",\"é«˜æ£‰è¯­\"],[\"kmr\",\"åº“å°”å¾·è¯­ (åŒ—)\"],[\"kn\",\"å\\u008d¡çº³è¾¾è¯­\"],[\"ko\",\"éŸ©è¯­\"],[\"ks\",\"Kashmiri\"],[\"ku\",\"åº“å°”å¾·è¯­ (ä¸­)\"],[\"ky\",\"æŸ¯å°”å…‹å­œè¯­\"],[\"ln\",\"æž—åŠ æ‹‰è¯­\"],[\"lo\",\"è€\\u0081æŒ\\u009dè¯­\"],[\"lt\",\"ç«‹é™¶å®›è¯­\"],[\"lug\",\"Ganda\"],[\"lv\",\"æ‹‰è„±ç»´äºšè¯­\"],[\"lzh\",\"Chinese (Literary)\"],[\"mai\",\"è¿ˆè’‚åˆ©è¯­\"],[\"mg\",\"é©¬æ‹‰åŠ æ–¯è¯­\"],[\"mi\",\"æ¯›åˆ©è¯­\"],[\"mk\",\"é©¬å…¶é¡¿è¯­\"],[\"ml\",\"é©¬æ‹‰é›…æ‹‰å§†è¯­\"],[\"mn-Cyrl\",\"Mongolian (Cyrillic)\"],[\"mn-Mong\",\"Mongolian (Traditional)\"],[\"mni\",\"Manipuri\"],[\"mr\",\"é©¬æ‹‰åœ°è¯­\"],[\"ms\",\"é©¬æ\\u009d¥è¯­\"],[\"mt\",\"é©¬è€³ä»–è¯­\"],[\"mww\",\"è‹—è¯­\"],[\"my\",\"ç¼…ç”¸è¯­\"],[\"nb\",\"ä¹¦é\\u009d¢æŒªå¨\\u0081è¯­\"],[\"ne\",\"å°¼æ³Šå°”è¯­\"],[\"nl\",\"è\\u008d·å…°è¯­\"],[\"nso\",\"Sesotho sa Leboa\"],[\"nya\",\"Nyanja\"],[\"or\",\"å¥¥é‡Œäºšè¯­\"],[\"otq\",\"å…‹é›·å¡”ç½—å¥¥æ‰˜ç±³è¯­\"],[\"pa\",\"æ—\\u0081é\\u0081®æ™®è¯­\"],[\"pl\",\"æ³¢å…°è¯­\"],[\"prs\",\"è¾¾é‡Œè¯­\"],[\"ps\",\"æ™®ä»€å›¾è¯­\"],[\"pt\",\"è‘¡è\\u0090„ç‰™è¯­ (å·´è¥¿)\"],[\"pt-PT\",\"è‘¡è\\u0090„ç‰™è¯­ (è‘¡è\\u0090„ç‰™)\"],[\"ro\",\"ç½—é©¬å°¼äºšè¯­\"],[\"ru\",\"ä¿„è¯­\"],[\"run\",\"Rundi\"],[\"rw\",\"å\\u008d¢æ—ºè¾¾è¯­\"],[\"sd\",\"ä¿¡å¾·è¯­\"],[\"si\",\"åƒ§ä¼½ç½—è¯­\"],[\"sk\",\"æ–¯æ´›ä¼\\u0090å…‹è¯­\"],[\"sl\",\"æ–¯æ´›æ–‡å°¼äºšè¯­\"],[\"sm\",\"è\\u0090¨æ‘©äºšè¯­\"],[\"sn\",\"ç»\\u008dçº³è¯­\"],[\"so\",\"ç´¢é©¬é‡Œè¯­\"],[\"sq\",\"é˜¿å°”å·´å°¼äºšè¯­\"],[\"sr-Cyrl\",\"å¡žå°”ç»´äºšè¯­ (è¥¿é‡Œå°”æ–‡)\"],[\"sr-Latn\",\"å¡žå°”ç»´äºšè¯­ (æ‹‰ä¸\\u0081æ–‡)\"],[\"st\",\"Sesotho\"],[\"sv\",\"ç‘žå…¸è¯­\"],[\"sw\",\"æ–¯ç“¦å¸Œé‡Œè¯­\"],[\"ta\",\"æ³°ç±³å°”è¯­\"],[\"te\",\"æ³°å\\u008d¢å›ºè¯­\"],[\"th\",\"æ³°è¯­\"],[\"ti\",\"æ\\u008f\\u0090æ ¼åˆ©å°¼äºšè¯­\"],[\"tk\",\"åœŸåº“æ›¼è¯­\"],[\"tlh-Latn\",\"å…‹æž—è´¡è¯­ (æ‹‰ä¸\\u0081æ–‡)\"],[\"tlh-Piqd\",\"å…‹æž—è´¡è¯­ (pIqaD)\"],[\"tn\",\"Setswana\"],[\"to\",\"æ±¤åŠ è¯­\"],[\"tr\",\"åœŸè€³å…¶è¯­\"],[\"tt\",\"éž‘é\\u009d¼è¯­\"],[\"ty\",\"å¡”å¸Œæ\\u008f\\u0090è¯­\"],[\"ug\",\"ç»´å\\u0090¾å°”è¯­\"],[\"uk\",\"ä¹Œå…‹å…°è¯­\"],[\"ur\",\"ä¹Œå°”éƒ½è¯­\"],[\"uz\",\"ä¹Œå…¹åˆ«å…‹è¯­\"],[\"vi\",\"è¶Šå\\u008d—è¯­\"],[\"xh\",\"ç§‘è\\u0090¨è¯­\"],[\"yo\",\"çº¦é²\\u0081å·´è¯­\"],[\"yua\",\"å°¤å\\u008d¡ç‰¹å…‹çŽ›é›…è¯­\"],[\"yue\",\"ç²¤è¯­ (ç¹\\u0081ä½“)\"],[\"zh-Hans\",\"ä¸­æ–‡ (ç®€ä½“)\"],[\"zh-Hant\",\"ä¸­æ–‡ (ç¹\\u0081ä½“)\"],[\"zu\",\"ç¥–é²\\u0081è¯­\"]]; WSS_FullScreenMode=false; rtFa=Z1N2xKvCUQpMrdVBlf04o6zDG7uQxy3/f8AiWVoAtYMmZTU4OThiN2EtOWM4Ny00YTRiLWIyMmEtMmRmM2YzNTVlMDFlIzEzMzUzNzUyMDg1NTA5NjAwMiNjYmIxMTBhMS0xMDIyLTMwMDAtMTE4YS02NDFkODU1OTA2OGUjMTE4MDIwMDQzJTQwbGluay5jdWhrLmVkdS5jbiMxOTU4NjMjdnRHQ2JlVEdQZGlzUUtlaHZFc1BGLTFhTUpJxKaD27jYG/f6P5BqfKJ53hX6MpKZSsxtILJohJZPl++r6/MVCkdQ83xUTpmnlf9bZs8P2C2hTmKR3/AhS4sb0e/byTT7NIULUukTzlEFRyyzRlFLBDANuQRTOy0rYnqHnDyoq/wvR6/DP0fZyJsOhvQuw0SEezTeKW+GwpzBgWSzvrNOYwMaw/Dk8Lw0H8HWMHXqm5nNeB7MrZzwBoyghm9Bif7D9yAsMAjlWGNq2DY8x6fHLklbMPDjW3d6QdnJntjuTU9/yL4EgTTgmtNbsAJbnGxl6ezevUiubYEP+YHSguDZIEvnT+f41bklN019D+bKlOnRI0l5ZTTkm/mJvb0AAAA=; SIMI=eyJzdCI6MH0=; FedAuth=77u/PD94bWwgdmVyc2lvbj0iMS4wIiBlbmNvZGluZz0idXRmLTgiPz48U1A+VjEzLDBoLmZ8bWVtYmVyc2hpcHwxMDAzYmZmZGFjODk3MTU4QGxpdmUuY29tLDAjLmZ8bWVtYmVyc2hpcHwxMTgwMjAwNDNAbGluay5jdWhrLmVkdS5jbiwxMzM1Mzc1MTk1MjAwMDAwMDAsMTMzMjk3MTU0OTQwMDAwMDAwLDEzMzUzODM4NDg1NDkzOTc3MSwxNC4xOTguMTQxLjYzLDIsZTU4OThiN2EtOWM4Ny00YTRiLWIyMmEtMmRmM2YzNTVlMDFlLCxlMDhjYTdjNS05MzM1LTQ2N2MtYmI4Zi0yNWM2ODA2Njg1NGQsY2JiMTEwYTEtMTAyMi0zMDAwLTExOGEtNjQxZDg1NTkwNjhlLGNiYjExMGExLTEwMjItMzAwMC0xMThhLTY0MWQ4NTU5MDY4ZSwsMCwxMzM1MzgzODQ4NTA0MDgyNDYsMTMzNTQwMTEyODUwNDA4MjQ2LCwsZXlKNGJYTmZZMk1pT2lKYlhDSkRVREZjSWwwaUxDSjRiWE5mYzNOdElqb2lNU0lzSW5CeVpXWmxjbkpsWkY5MWMyVnlibUZ0WlNJNklqRXhPREF5TURBME0wQnNhVzVyTG1OMWFHc3VaV1IxTG1OdUlpd2lkWFJwSWpvaVpFbzFSRjgwWnpjNWEyRnJYMHN6WTFvMlgzZEJRU0o5LDI2NTA0Njc3NDM5OTk5OTk5OTksMTMzNTM3NTIwODQwMDAwMDAwLGViNTM4MmMxLTA1NDEtNGVhYS1hNTc5LTliNGI2ZTM1YWU5NSwsLCwsLDAsLDE5NTg2MyxEYURBZmpRUW1weU9YeDJScktfVzVsdm9MWjQsQ1hpY3N3bzJ0K2FqaUgyWStKdVlxNkg3SDN4NWZJQm9PWGpWcEtwRWx2cHorQU9PSHppRlFWUTV5b3ZDZmExeFdKK2picEt2eDB0MzBISmZWVzZsTUl2dDZEZWJnZEoxVVlENTNEdVd2aFVGbWYrYVpUTG5RS3dRdTRIMm42d0xpVDdHUGU2U09wYjl6MnBxcHZwcnRDTGZWelk2dDE4U2R3ajJONm9RcEVzNmJKaVU1YnBhMnptTGJNa0FVd2I3K0F4SUNkR0RLcmIwKytCNVBkQ29weTYrRXg3ajF2U2tWaC9mZHBIb3BZblNEZk4xVTAxaHQxTDhSb1BDWWN1STFiTFJRVlhLalpLQWlDdllIOFphTzJCNzBWUXNwcndDYitZNlloSFFTMytpS2lvclA1ckVkQTY1ZHphYTNGZTNIYUE4Qk5FY0k1NlBoa2JPZGNtbGpnPT08L1NQPg==; MicrosoftApplicationsTelemetryDeviceId=53c8df4e-f1b9-4c01-a5ae-6f31a92509c4; ai_session=jlDEaZEn/zsjFLN8DkPsbw|1709278490649|1709278490649; MSFPC=GUID=289e597ef1eb42bb85d62791022bff2d&HASH=289e&LV=202403&V=4&LU=1709278308385' \\\n",
    "  -H 'Referer: https://cuhko365-my.sharepoint.com/personal/118020043_link_cuhk_edu_cn/_layouts/15/onedrive.aspx?view=0' \\\n",
    "  -H 'Sec-Fetch-Dest: iframe' \\\n",
    "  -H 'Sec-Fetch-Mode: navigate' \\\n",
    "  -H 'Sec-Fetch-Site: same-origin' \\\n",
    "  -H 'Sec-Fetch-User: ?1' \\\n",
    "  -H 'Service-Worker-Navigation-Preload: true' \\\n",
    "  -H 'Upgrade-Insecure-Requests: 1' \\\n",
    "  -H 'User-Agent: Mozilla/5.0 (Macintosh; Intel Mac OS X 10_15_7) AppleWebKit/537.36 (KHTML, like Gecko) Chrome/122.0.0.0 Safari/537.36' \\\n",
    "  -H 'sec-ch-ua: \"Chromium\";v=\"122\", \"Not(A:Brand\";v=\"24\", \"Google Chrome\";v=\"122\"' \\\n",
    "  -H 'sec-ch-ua-mobile: ?0' \\\n",
    "  -H 'sec-ch-ua-platform: \"macOS\"' \\\n",
    "  --output sample.zip"
   ]
  },
  {
   "cell_type": "code",
   "execution_count": null,
   "metadata": {},
   "outputs": [],
   "source": []
  },
  {
   "cell_type": "code",
   "execution_count": null,
   "metadata": {},
   "outputs": [
    {
     "data": {
      "text/plain": [
       "[192, 182, 196]"
      ]
     },
     "execution_count": 3,
     "metadata": {},
     "output_type": "execute_result"
    }
   ],
   "source": [
    "tmp = {192:'a', 182:'e', 196:'r',}\n",
    "list(tmp.keys())"
   ]
  },
  {
   "cell_type": "code",
   "execution_count": null,
   "metadata": {},
   "outputs": [
    {
     "data": {
      "text/plain": [
       "[(182, 'e'), (192, 'a'), (196, 'r')]"
      ]
     },
     "execution_count": 4,
     "metadata": {},
     "output_type": "execute_result"
    }
   ],
   "source": [
    "tmp = {192:'a', 182:'e', 196:'r'}\n",
    "sorted(tmp.items(), key=lambda x:x[0])"
   ]
  },
  {
   "cell_type": "code",
   "execution_count": null,
   "metadata": {},
   "outputs": [],
   "source": []
  }
 ],
 "metadata": {
  "kernelspec": {
   "display_name": "cryptoresearch",
   "language": "python",
   "name": "python3"
  },
  "language_info": {
   "codemirror_mode": {
    "name": "ipython",
    "version": 3
   },
   "file_extension": ".py",
   "mimetype": "text/x-python",
   "name": "python",
   "nbconvert_exporter": "python",
   "pygments_lexer": "ipython3",
   "version": "3.11.7"
  }
 },
 "nbformat": 4,
 "nbformat_minor": 2
}
