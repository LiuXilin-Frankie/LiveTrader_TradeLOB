{
 "cells": [
  {
   "cell_type": "code",
   "execution_count": 1,
   "metadata": {},
   "outputs": [
    {
     "name": "stdout",
     "output_type": "stream",
     "text": [
      "backtest on:  ['btc_usdt_binance', 'btc_usdt_bybit']\n",
      "/*----- start initialize the DataHandler -----*/\n"
     ]
    }
   ],
   "source": [
    "import queue\n",
    "import time\n",
    "import os\n",
    "import sys\n",
    "\n",
    "from DataHandler.TradeLOBHourlyDataHandler import HistoricTradeLOBHourlyDataHandler\n",
    "from Strategy.LeadLagArbitrageStrategy import LeadLagArbitrageStrategy\n",
    "from Portfolio.LogPlotPortfolio import LogPlotPortfolio\n",
    "from Execution.execution import SimulatedExecutionHandler\n",
    "\n",
    "event_queue = queue.Queue()\n",
    "data_handler = HistoricTradeLOBHourlyDataHandler(event_queue, \n",
    "                                           symbol_list=['btc_usdt','btc_usdt'],\n",
    "                                           exchange_list=['binance','bybit'], \n",
    "                                           file_dir = 'data_sample/20240101/', \n",
    "                                           # file_dir = 'data_sample/',\n",
    "                                           is_csv=False)\n",
    "#sys.exit()\n",
    "\n",
    "# 组合\n",
    "portfolio = LogPlotPortfolio(event_queue, data_handler)\n",
    "# 回测模拟成交器；如果是实盘这里就是算法交易模块\n",
    "executor = SimulatedExecutionHandler(event_queue, data_handler) \n",
    "# 策略实例。实际应用中应该有多个策略实例\n",
    "strategy = LeadLagArbitrageStrategy(event_queue, data_handler, portfolio, executor) \n",
    "\n",
    "cnt = 0\n",
    "while True:\n",
    "    # Update the trade/LOB (specific backtest code, as opposed to live trading)\n",
    "    if data_handler.continue_backtest == True:\n",
    "        data_handler.update_TradeLOB()\n",
    "    else:\n",
    "        break\n",
    "    \n",
    "    cnt+=1\n",
    "    if cnt>2000: break\n",
    "\n",
    "    # Handle the events\n",
    "    while True:\n",
    "        try:\n",
    "            event = event_queue.get(False)\n",
    "        except queue.Empty:\n",
    "            break\n",
    "        else:\n",
    "            if event is not None:\n",
    "\n",
    "                if event.type == 'MARKET':\n",
    "                    # print('get market event', event)\n",
    "                    strategy.on_market_event(event)\n",
    "                    portfolio.on_market_event(event)\n",
    "                    executor.on_market_event(event)\n",
    "\n",
    "                elif event.type == 'ORDER':\n",
    "                    print('get order event', event)\n",
    "                    executor.on_order_event(event)\n",
    "\n",
    "                elif event.type == 'FILL':\n",
    "                    print('get fill event', event)\n",
    "                    executor.on_fill_event(event)\n",
    "                    portfolio.on_fill_event(event)\n",
    "                    sys.exit()\n",
    "                    strategy.on_order_fill(event)\n",
    "                    #sys.exit()\n"
   ]
  },
  {
   "cell_type": "code",
   "execution_count": null,
   "metadata": {},
   "outputs": [
    {
     "data": {
      "text/plain": [
       "{'btc_usdt_binance': [],\n",
       " 'btc_usdt_bybit': [{'timestamp': 1704042004655, 'symbol': 'btc_usdt_bybit', 'order_id': 0, 'order_type': 'IOC', 'direction': 'BUY', 'quantity': 0.23473649707735345, 'price': 42600.959478000004}]}"
      ]
     },
     "execution_count": 2,
     "metadata": {},
     "output_type": "execute_result"
    }
   ],
   "source": [
    "executor.live_orders_on_exchange"
   ]
  },
  {
   "cell_type": "code",
   "execution_count": null,
   "metadata": {},
   "outputs": [
    {
     "data": {
      "text/plain": [
       "[]"
      ]
     },
     "execution_count": 3,
     "metadata": {},
     "output_type": "execute_result"
    }
   ],
   "source": [
    "[i for i in executor.live_orders_on_exchange['btc_usdt_bybit'] if i.order_id != event.order_id]"
   ]
  },
  {
   "cell_type": "code",
   "execution_count": null,
   "metadata": {},
   "outputs": [],
   "source": []
  }
 ],
 "metadata": {
  "kernelspec": {
   "display_name": "cryptoresearch",
   "language": "python",
   "name": "python3"
  },
  "language_info": {
   "codemirror_mode": {
    "name": "ipython",
    "version": 3
   },
   "file_extension": ".py",
   "mimetype": "text/x-python",
   "name": "python",
   "nbconvert_exporter": "python",
   "pygments_lexer": "ipython3",
   "version": "3.11.7"
  }
 },
 "nbformat": 4,
 "nbformat_minor": 2
}
